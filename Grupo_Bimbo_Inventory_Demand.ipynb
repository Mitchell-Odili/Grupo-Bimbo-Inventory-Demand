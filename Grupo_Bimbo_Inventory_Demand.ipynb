{
  "cells": [
    {
      "cell_type": "markdown",
      "metadata": {
        "id": "view-in-github",
        "colab_type": "text"
      },
      "source": [
        "<a href=\"https://colab.research.google.com/github/Mitchell-Odili/Grupo-Bimbo-Inventory-Demand/blob/main/Grupo_Bimbo_Inventory_Demand.ipynb\" target=\"_parent\"><img src=\"https://colab.research.google.com/assets/colab-badge.svg\" alt=\"Open In Colab\"/></a>"
      ]
    },
    {
      "cell_type": "code",
      "execution_count": null,
      "id": "cffb48a2",
      "metadata": {
        "id": "cffb48a2"
      },
      "outputs": [],
      "source": [
        "# Jovian Commit Essentials\n",
        "# Please retain and execute this cell without modifying the contents for `jovian.commit` to work\n",
        "!pip install jovian --upgrade -q\n",
        "import jovian\n",
        "jovian.set_project('grupo-bimbo-inventory-demand')\n",
        "jovian.set_colab_id('1lGZuat7EKTM7FnGHQYz8iI9kd3liTvK7')"
      ]
    },
    {
      "cell_type": "markdown",
      "id": "eb758e8c",
      "metadata": {
        "id": "eb758e8c"
      },
      "source": [
        "# Grupo Bimbo Inventory Demand\n",
        "\n",
        "Maximize sales and minimize returns of bakery goods"
      ]
    },
    {
      "cell_type": "markdown",
      "id": "79dad155",
      "metadata": {
        "id": "79dad155"
      },
      "source": [
        "\n",
        "![](data:image/png;base64,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)\n",
        "\n",
        "[Grupo Bimbo, S.A.B. de C.V.](http://grupobimbo.com/es) is a Mexican multinational company with a presence in over 33 countries located in the Americas, Europe, Asia, and Africa. It has an annual sales volume of 15 billion dollars and is currently listed on the Mexican stock exchange with the ticker BIMBO."
      ]
    },
    {
      "cell_type": "markdown",
      "id": "0248e3aa",
      "metadata": {
        "id": "0248e3aa"
      },
      "source": [
        "## Introduction"
      ]
    },
    {
      "cell_type": "markdown",
      "id": "f31c37b0",
      "metadata": {
        "id": "f31c37b0"
      },
      "source": [
        "Planning a celebration is a balancing act of preparing just enough food to go around without being stuck eating the same leftovers for the next week. The key is anticipating how many guests will come. Grupo Bimbo must weigh similar considerations as it strives to meet daily consumer demand for fresh bakery products on the shelves of over 1 million stores along its 45,000 routes across Mexico.\n",
        "\n",
        "![](https://grupobimbo-com-custom01-assets.s3.amazonaws.com/s3fs-public/grupo-bimbo-nuestras-marcas-productos_0_0.jpg) \n",
        "\n",
        "Currently, daily inventory calculations are performed by direct delivery sales employees who must single-handedly predict the forces of supply, demand, and hunger based on their personal experiences with each store. With some breads carrying a one week shelf life, the acceptable margin for error is small.\n",
        "\n"
      ]
    },
    {
      "cell_type": "markdown",
      "id": "4c80250c",
      "metadata": {
        "id": "4c80250c"
      },
      "source": [
        "The following topics are covered in this notebook:\n",
        "\n",
        "- Downloading a real-world dataset from a Kaggle competition\n",
        "- Performing feature engineering and prepare the dataset for training\n",
        "- Train & evaluating different machine learning models\n",
        "- Tuning hyperparameters to reduce overfitting to improve the model\n",
        "- Making predictions on sample inputs"
      ]
    },
    {
      "cell_type": "markdown",
      "id": "0b867beb",
      "metadata": {
        "id": "0b867beb"
      },
      "source": [
        "Let's install and import some required libraries before we begin."
      ]
    },
    {
      "cell_type": "code",
      "execution_count": null,
      "id": "5e2e9bf0",
      "metadata": {
        "id": "5e2e9bf0"
      },
      "outputs": [],
      "source": [
        "!pip install numpy pandas matplotlib seaborn --quiet"
      ]
    },
    {
      "cell_type": "code",
      "execution_count": null,
      "id": "d0f4a4d4",
      "metadata": {
        "colab": {
          "base_uri": "https://localhost:8080/"
        },
        "id": "d0f4a4d4",
        "outputId": "966e181f-0b44-4a97-d1ad-64bed42d0cac"
      },
      "outputs": [
        {
          "name": "stdout",
          "output_type": "stream",
          "text": [
            "\u001b[K     |████████████████████████████████| 173.5 MB 13 kB/s \n",
            "\u001b[K     |████████████████████████████████| 2.0 MB 52.1 MB/s \n",
            "\u001b[?25h"
          ]
        }
      ],
      "source": [
        "!pip install jovian opendatasets xgboost graphviz lightgbm scikit-learn xgboost lightgbm --upgrade --quiet"
      ]
    },
    {
      "cell_type": "markdown",
      "id": "ab6dce0d",
      "metadata": {
        "id": "ab6dce0d"
      },
      "source": [
        "Set the path for graphviz"
      ]
    },
    {
      "cell_type": "code",
      "execution_count": null,
      "id": "05da2432",
      "metadata": {
        "id": "05da2432"
      },
      "outputs": [],
      "source": [
        "import os\n",
        "os.environ[\"PATH\"] += os.pathsep + 'C:/Users/HP/anaconda3/Library/bin/graphviz'"
      ]
    },
    {
      "cell_type": "markdown",
      "id": "402f80fc",
      "metadata": {
        "id": "402f80fc"
      },
      "source": [
        "## Problem Statement"
      ]
    },
    {
      "cell_type": "markdown",
      "id": "3ac4e97f",
      "metadata": {
        "id": "3ac4e97f"
      },
      "source": [
        " \n",
        "In this notebook, we will forecast the demand of a product for a given week, at a particular store based on historical sales data. Doing so will make sure consumers of Grupo Bimbo's over 100 bakery products aren’t staring at empty shelves, while also reducing the amount spent on refunds to store owners with surplus product unfit for sale.\n",
        "\n",
        "The dataset we are given; [Grupo Bimbo Inventory Demand](https://www.kaggle.com/c/grupo-bimbo-inventory-demand/data) consists of 9 weeks of sales transactions in Mexico. Every week, there are delivery trucks that deliver products to the vendors. Each transaction consists of sales and returns. Returns are the products that are unsold and expired. The demand for a product in a certain week is defined as the sales this week subtracted by the return next week.\n",
        "\n",
        "View and download the dataset here: https://www.kaggle.com/c/grupo-bimbo-inventory-demand/data"
      ]
    },
    {
      "cell_type": "markdown",
      "id": "a071044e",
      "metadata": {
        "id": "a071044e"
      },
      "source": [
        "## Downloading the Data\n",
        "\n",
        "We can download the dataset from Kaggle directly within the Jupyter notebook using the `opendatasets` library. Make sure to [accept the competition rules](https://www.kaggle.com/c/grupo-bimbo-inventory-demand/rules) before executing the following cell."
      ]
    },
    {
      "cell_type": "code",
      "execution_count": null,
      "id": "22607381",
      "metadata": {
        "id": "22607381"
      },
      "outputs": [],
      "source": [
        "import opendatasets as od\n",
        "import pandas as pd\n",
        "import numpy as np\n",
        "import seaborn as sns\n",
        "import matplotlib.pyplot as plt\n",
        "%matplotlib inline"
      ]
    },
    {
      "cell_type": "code",
      "execution_count": null,
      "id": "f72cadbc",
      "metadata": {
        "colab": {
          "base_uri": "https://localhost:8080/"
        },
        "id": "f72cadbc",
        "outputId": "8fb3388f-4009-471d-c3ee-3d623a5235c4"
      },
      "outputs": [
        {
          "name": "stdout",
          "output_type": "stream",
          "text": [
            "Please provide your Kaggle credentials to download this dataset. Learn more: http://bit.ly/kaggle-creds\n",
            "Your Kaggle username: mitchellodili\n",
            "Your Kaggle Key: ··········\n",
            "Downloading grupo-bimbo-inventory-demand.zip to ./grupo-bimbo-inventory-demand\n"
          ]
        },
        {
          "name": "stderr",
          "output_type": "stream",
          "text": [
            "100%|██████████| 465M/465M [00:01<00:00, 252MB/s]\n"
          ]
        },
        {
          "name": "stdout",
          "output_type": "stream",
          "text": [
            "\n",
            "Extracting archive ./grupo-bimbo-inventory-demand/grupo-bimbo-inventory-demand.zip to ./grupo-bimbo-inventory-demand\n"
          ]
        }
      ],
      "source": [
        "od.download('https://www.kaggle.com/c/grupo-bimbo-inventory-demand/data')"
      ]
    },
    {
      "cell_type": "markdown",
      "id": "1c6b259f",
      "metadata": {
        "id": "1c6b259f"
      },
      "source": [
        "You'll be asked to provide your Kaggle credentials to download the data. Follow these instructions: http://bit.ly/kaggle-creds"
      ]
    },
    {
      "cell_type": "code",
      "execution_count": null,
      "id": "237b3aab",
      "metadata": {
        "colab": {
          "base_uri": "https://localhost:8080/"
        },
        "id": "237b3aab",
        "outputId": "4bb0010e-e653-4483-9385-11fc0e77ee56"
      },
      "outputs": [
        {
          "data": {
            "text/plain": [
              "['train.csv.zip',\n",
              " 'sample_submission.csv.zip',\n",
              " 'cliente_tabla.csv.zip',\n",
              " 'producto_tabla.csv.zip',\n",
              " 'town_state.csv.zip',\n",
              " 'test.csv.zip']"
            ]
          },
          "execution_count": 8,
          "metadata": {},
          "output_type": "execute_result"
        }
      ],
      "source": [
        "os.listdir('grupo-bimbo-inventory-demand')"
      ]
    },
    {
      "cell_type": "markdown",
      "id": "25929b9b",
      "metadata": {
        "id": "25929b9b"
      },
      "source": [
        "The files `client_tabla.csv.zip` , `producto_tabla.csv.zip`,`sample_submission.csv.zip`, `test.csv.zip`, `town_state.csv.zip` and `train.csv.zip` have been downloaded and are all in zip format. Let's unzip them using the [`zipfile`](https://docs.python.org/3/library/zipfile.html) module."
      ]
    },
    {
      "cell_type": "code",
      "execution_count": null,
      "id": "812fb9ab",
      "metadata": {
        "id": "812fb9ab"
      },
      "outputs": [],
      "source": [
        "from zipfile import ZipFile"
      ]
    },
    {
      "cell_type": "code",
      "execution_count": null,
      "id": "c39b7b5b",
      "metadata": {
        "id": "c39b7b5b"
      },
      "outputs": [],
      "source": [
        "with ZipFile('grupo-bimbo-inventory-demand/cliente_tabla.csv.zip') as f:\n",
        "    f.extractall(path = 'client-table')"
      ]
    },
    {
      "cell_type": "code",
      "execution_count": null,
      "id": "0f95a125",
      "metadata": {
        "id": "0f95a125"
      },
      "outputs": [],
      "source": [
        "with ZipFile('grupo-bimbo-inventory-demand/producto_tabla.csv.zip') as f:\n",
        "    f.extractall(path = 'product-table')"
      ]
    },
    {
      "cell_type": "code",
      "execution_count": null,
      "id": "dc4b594e",
      "metadata": {
        "id": "dc4b594e"
      },
      "outputs": [],
      "source": [
        "with ZipFile('grupo-bimbo-inventory-demand/sample_submission.csv.zip') as f:\n",
        "    f.extractall(path = 'sample_submission')"
      ]
    },
    {
      "cell_type": "code",
      "execution_count": null,
      "id": "71fc4515",
      "metadata": {
        "id": "71fc4515"
      },
      "outputs": [],
      "source": [
        "with ZipFile('grupo-bimbo-inventory-demand/test.csv.zip') as f:\n",
        "    f.extractall(path = 'test')"
      ]
    },
    {
      "cell_type": "code",
      "execution_count": null,
      "id": "08fe6366",
      "metadata": {
        "id": "08fe6366"
      },
      "outputs": [],
      "source": [
        "with ZipFile('grupo-bimbo-inventory-demand/town_state.csv.zip') as f:\n",
        "    f.extractall(path = 'town_state')"
      ]
    },
    {
      "cell_type": "code",
      "execution_count": null,
      "id": "bd1c8a0e",
      "metadata": {
        "colab": {
          "base_uri": "https://localhost:8080/"
        },
        "id": "bd1c8a0e",
        "outputId": "73a0b363-9987-4fb5-c7ff-df3bd5d6776e"
      },
      "outputs": [
        {
          "name": "stdout",
          "output_type": "stream",
          "text": [
            "CPU times: user 13.2 s, sys: 3.31 s, total: 16.5 s\n",
            "Wall time: 46.8 s\n"
          ]
        }
      ],
      "source": [
        "%%time\n",
        "with ZipFile('grupo-bimbo-inventory-demand/train.csv.zip') as f:\n",
        "    f.extractall(path = 'train')"
      ]
    },
    {
      "cell_type": "markdown",
      "id": "d9e6afb8",
      "metadata": {
        "id": "d9e6afb8"
      },
      "source": [
        "The dataset is extracted to the folder `client-table`. Let's view the contents of the folder using the [`os`](https://docs.python.org/3/library/os.html) module."
      ]
    },
    {
      "cell_type": "code",
      "execution_count": null,
      "id": "093ce8ac",
      "metadata": {
        "colab": {
          "base_uri": "https://localhost:8080/"
        },
        "id": "093ce8ac",
        "outputId": "f86dd905-907b-4b0a-9b1d-e0ad413c7236"
      },
      "outputs": [
        {
          "data": {
            "text/plain": [
              "(['cliente_tabla.csv'],\n",
              " ['producto_tabla.csv'],\n",
              " ['sample_submission.csv'],\n",
              " ['test.csv'],\n",
              " ['town_state.csv'],\n",
              " ['train.csv'])"
            ]
          },
          "execution_count": 16,
          "metadata": {},
          "output_type": "execute_result"
        }
      ],
      "source": [
        "os.listdir('client-table'), os.listdir('product-table'), os.listdir('sample_submission'), os.listdir('test'), os.listdir('town_state'), os.listdir('train')"
      ]
    },
    {
      "cell_type": "markdown",
      "id": "05118280",
      "metadata": {
        "id": "05118280"
      },
      "source": [
        "Let's load the data into Pandas dataframes."
      ]
    },
    {
      "cell_type": "code",
      "execution_count": null,
      "id": "82400da5",
      "metadata": {
        "colab": {
          "base_uri": "https://localhost:8080/"
        },
        "id": "82400da5",
        "outputId": "413e7324-7f0b-429d-bda5-d4950d049154"
      },
      "outputs": [
        {
          "name": "stdout",
          "output_type": "stream",
          "text": [
            "CPU times: user 3.45 s, sys: 783 ms, total: 4.23 s\n",
            "Wall time: 4.22 s\n"
          ]
        }
      ],
      "source": [
        "%%time\n",
        "client_df = pd.read_csv('client-table/cliente_tabla.csv')\n",
        "product_df = pd.read_csv('product-table/producto_tabla.csv')\n",
        "sample_submission_df = pd.read_csv('sample_submission/sample_submission.csv')\n",
        "test_df = pd.read_csv('test/test.csv')\n",
        "town_state_df = pd.read_csv('town_state/town_state.csv')"
      ]
    },
    {
      "cell_type": "code",
      "execution_count": null,
      "id": "4f973f0d",
      "metadata": {
        "colab": {
          "base_uri": "https://localhost:8080/"
        },
        "id": "4f973f0d",
        "outputId": "30658ef6-a889-4e21-85d0-e214c4fc5c37"
      },
      "outputs": [
        {
          "data": {
            "text/plain": [
              "((935362, 2), (2592, 2), (6999251, 2), (6999251, 7), (790, 3))"
            ]
          },
          "execution_count": 18,
          "metadata": {},
          "output_type": "execute_result"
        }
      ],
      "source": [
        "client_df.shape, product_df.shape, sample_submission_df.shape, test_df.shape, town_state_df.shape"
      ]
    },
    {
      "cell_type": "code",
      "execution_count": null,
      "id": "5311d8d1",
      "metadata": {
        "colab": {
          "base_uri": "https://localhost:8080/",
          "height": 424
        },
        "id": "5311d8d1",
        "outputId": "275cc323-6e71-4f71-fc8d-73e1b5ba7e27"
      },
      "outputs": [
        {
          "data": {
            "text/html": [
              "<div>\n",
              "<style scoped>\n",
              "    .dataframe tbody tr th:only-of-type {\n",
              "        vertical-align: middle;\n",
              "    }\n",
              "\n",
              "    .dataframe tbody tr th {\n",
              "        vertical-align: top;\n",
              "    }\n",
              "\n",
              "    .dataframe thead th {\n",
              "        text-align: right;\n",
              "    }\n",
              "</style>\n",
              "<table border=\"1\" class=\"dataframe\">\n",
              "  <thead>\n",
              "    <tr style=\"text-align: right;\">\n",
              "      <th></th>\n",
              "      <th>id</th>\n",
              "      <th>Demanda_uni_equil</th>\n",
              "    </tr>\n",
              "  </thead>\n",
              "  <tbody>\n",
              "    <tr>\n",
              "      <th>0</th>\n",
              "      <td>0</td>\n",
              "      <td>7</td>\n",
              "    </tr>\n",
              "    <tr>\n",
              "      <th>1</th>\n",
              "      <td>1</td>\n",
              "      <td>7</td>\n",
              "    </tr>\n",
              "    <tr>\n",
              "      <th>2</th>\n",
              "      <td>2</td>\n",
              "      <td>7</td>\n",
              "    </tr>\n",
              "    <tr>\n",
              "      <th>3</th>\n",
              "      <td>3</td>\n",
              "      <td>7</td>\n",
              "    </tr>\n",
              "    <tr>\n",
              "      <th>4</th>\n",
              "      <td>4</td>\n",
              "      <td>7</td>\n",
              "    </tr>\n",
              "    <tr>\n",
              "      <th>...</th>\n",
              "      <td>...</td>\n",
              "      <td>...</td>\n",
              "    </tr>\n",
              "    <tr>\n",
              "      <th>6999246</th>\n",
              "      <td>6999246</td>\n",
              "      <td>7</td>\n",
              "    </tr>\n",
              "    <tr>\n",
              "      <th>6999247</th>\n",
              "      <td>6999247</td>\n",
              "      <td>7</td>\n",
              "    </tr>\n",
              "    <tr>\n",
              "      <th>6999248</th>\n",
              "      <td>6999248</td>\n",
              "      <td>7</td>\n",
              "    </tr>\n",
              "    <tr>\n",
              "      <th>6999249</th>\n",
              "      <td>6999249</td>\n",
              "      <td>7</td>\n",
              "    </tr>\n",
              "    <tr>\n",
              "      <th>6999250</th>\n",
              "      <td>6999250</td>\n",
              "      <td>7</td>\n",
              "    </tr>\n",
              "  </tbody>\n",
              "</table>\n",
              "<p>6999251 rows × 2 columns</p>\n",
              "</div>"
            ],
            "text/plain": [
              "              id  Demanda_uni_equil\n",
              "0              0                  7\n",
              "1              1                  7\n",
              "2              2                  7\n",
              "3              3                  7\n",
              "4              4                  7\n",
              "...          ...                ...\n",
              "6999246  6999246                  7\n",
              "6999247  6999247                  7\n",
              "6999248  6999248                  7\n",
              "6999249  6999249                  7\n",
              "6999250  6999250                  7\n",
              "\n",
              "[6999251 rows x 2 columns]"
            ]
          },
          "execution_count": 19,
          "metadata": {},
          "output_type": "execute_result"
        }
      ],
      "source": [
        "sample_submission_df"
      ]
    },
    {
      "cell_type": "code",
      "execution_count": null,
      "id": "3a230212",
      "metadata": {
        "colab": {
          "base_uri": "https://localhost:8080/"
        },
        "id": "3a230212",
        "outputId": "96f31459-b915-479e-9f23-8f8a30e3c65b"
      },
      "outputs": [
        {
          "name": "stdout",
          "output_type": "stream",
          "text": [
            "CPU times: user 34.4 s, sys: 11 s, total: 45.4 s\n",
            "Wall time: 52 s\n"
          ]
        }
      ],
      "source": [
        "%%time\n",
        "train_df = pd.read_csv('train/train.csv', \n",
        "                    dtype  = {'Semana' : 'int32',\n",
        "                              'Agencia_ID' :'int32',\n",
        "                              'Canal_ID' : 'int32',\n",
        "                              'Ruta_SAK' : 'int32',\n",
        "                              'Cliente-ID' : 'int64',\n",
        "                              'Producto_ID':'int32',\n",
        "                              'Venta_hoy':'float32',\n",
        "                              'Venta_uni_hoy': 'int32',\n",
        "                              'Dev_uni_proxima':'int32',\n",
        "                              'Dev_proxima':'float32',\n",
        "                              'Demanda_uni_equil':'int32'})"
      ]
    },
    {
      "cell_type": "code",
      "execution_count": null,
      "id": "df7bc626",
      "metadata": {
        "colab": {
          "base_uri": "https://localhost:8080/",
          "height": 424
        },
        "id": "df7bc626",
        "outputId": "14b0703a-a952-4016-e6e4-6203db856649"
      },
      "outputs": [
        {
          "data": {
            "text/html": [
              "<div>\n",
              "<style scoped>\n",
              "    .dataframe tbody tr th:only-of-type {\n",
              "        vertical-align: middle;\n",
              "    }\n",
              "\n",
              "    .dataframe tbody tr th {\n",
              "        vertical-align: top;\n",
              "    }\n",
              "\n",
              "    .dataframe thead th {\n",
              "        text-align: right;\n",
              "    }\n",
              "</style>\n",
              "<table border=\"1\" class=\"dataframe\">\n",
              "  <thead>\n",
              "    <tr style=\"text-align: right;\">\n",
              "      <th></th>\n",
              "      <th>Semana</th>\n",
              "      <th>Agencia_ID</th>\n",
              "      <th>Canal_ID</th>\n",
              "      <th>Ruta_SAK</th>\n",
              "      <th>Cliente_ID</th>\n",
              "      <th>Producto_ID</th>\n",
              "      <th>Venta_uni_hoy</th>\n",
              "      <th>Venta_hoy</th>\n",
              "      <th>Dev_uni_proxima</th>\n",
              "      <th>Dev_proxima</th>\n",
              "      <th>Demanda_uni_equil</th>\n",
              "    </tr>\n",
              "  </thead>\n",
              "  <tbody>\n",
              "    <tr>\n",
              "      <th>0</th>\n",
              "      <td>3</td>\n",
              "      <td>1110</td>\n",
              "      <td>7</td>\n",
              "      <td>3301</td>\n",
              "      <td>15766</td>\n",
              "      <td>1212</td>\n",
              "      <td>3</td>\n",
              "      <td>25.139999</td>\n",
              "      <td>0</td>\n",
              "      <td>0.000000</td>\n",
              "      <td>3</td>\n",
              "    </tr>\n",
              "    <tr>\n",
              "      <th>1</th>\n",
              "      <td>3</td>\n",
              "      <td>1110</td>\n",
              "      <td>7</td>\n",
              "      <td>3301</td>\n",
              "      <td>15766</td>\n",
              "      <td>1216</td>\n",
              "      <td>4</td>\n",
              "      <td>33.520000</td>\n",
              "      <td>0</td>\n",
              "      <td>0.000000</td>\n",
              "      <td>4</td>\n",
              "    </tr>\n",
              "    <tr>\n",
              "      <th>2</th>\n",
              "      <td>3</td>\n",
              "      <td>1110</td>\n",
              "      <td>7</td>\n",
              "      <td>3301</td>\n",
              "      <td>15766</td>\n",
              "      <td>1238</td>\n",
              "      <td>4</td>\n",
              "      <td>39.320000</td>\n",
              "      <td>0</td>\n",
              "      <td>0.000000</td>\n",
              "      <td>4</td>\n",
              "    </tr>\n",
              "    <tr>\n",
              "      <th>3</th>\n",
              "      <td>3</td>\n",
              "      <td>1110</td>\n",
              "      <td>7</td>\n",
              "      <td>3301</td>\n",
              "      <td>15766</td>\n",
              "      <td>1240</td>\n",
              "      <td>4</td>\n",
              "      <td>33.520000</td>\n",
              "      <td>0</td>\n",
              "      <td>0.000000</td>\n",
              "      <td>4</td>\n",
              "    </tr>\n",
              "    <tr>\n",
              "      <th>4</th>\n",
              "      <td>3</td>\n",
              "      <td>1110</td>\n",
              "      <td>7</td>\n",
              "      <td>3301</td>\n",
              "      <td>15766</td>\n",
              "      <td>1242</td>\n",
              "      <td>3</td>\n",
              "      <td>22.920000</td>\n",
              "      <td>0</td>\n",
              "      <td>0.000000</td>\n",
              "      <td>3</td>\n",
              "    </tr>\n",
              "    <tr>\n",
              "      <th>...</th>\n",
              "      <td>...</td>\n",
              "      <td>...</td>\n",
              "      <td>...</td>\n",
              "      <td>...</td>\n",
              "      <td>...</td>\n",
              "      <td>...</td>\n",
              "      <td>...</td>\n",
              "      <td>...</td>\n",
              "      <td>...</td>\n",
              "      <td>...</td>\n",
              "      <td>...</td>\n",
              "    </tr>\n",
              "    <tr>\n",
              "      <th>74180459</th>\n",
              "      <td>9</td>\n",
              "      <td>25759</td>\n",
              "      <td>1</td>\n",
              "      <td>5517</td>\n",
              "      <td>4528866</td>\n",
              "      <td>32873</td>\n",
              "      <td>4</td>\n",
              "      <td>27.760000</td>\n",
              "      <td>0</td>\n",
              "      <td>0.000000</td>\n",
              "      <td>4</td>\n",
              "    </tr>\n",
              "    <tr>\n",
              "      <th>74180460</th>\n",
              "      <td>9</td>\n",
              "      <td>25759</td>\n",
              "      <td>1</td>\n",
              "      <td>5517</td>\n",
              "      <td>4528866</td>\n",
              "      <td>34226</td>\n",
              "      <td>4</td>\n",
              "      <td>37.040001</td>\n",
              "      <td>0</td>\n",
              "      <td>0.000000</td>\n",
              "      <td>4</td>\n",
              "    </tr>\n",
              "    <tr>\n",
              "      <th>74180461</th>\n",
              "      <td>9</td>\n",
              "      <td>25759</td>\n",
              "      <td>1</td>\n",
              "      <td>5517</td>\n",
              "      <td>4528866</td>\n",
              "      <td>45112</td>\n",
              "      <td>4</td>\n",
              "      <td>51.000000</td>\n",
              "      <td>0</td>\n",
              "      <td>0.000000</td>\n",
              "      <td>4</td>\n",
              "    </tr>\n",
              "    <tr>\n",
              "      <th>74180462</th>\n",
              "      <td>9</td>\n",
              "      <td>25759</td>\n",
              "      <td>1</td>\n",
              "      <td>5517</td>\n",
              "      <td>4547943</td>\n",
              "      <td>40217</td>\n",
              "      <td>3</td>\n",
              "      <td>26.940001</td>\n",
              "      <td>3</td>\n",
              "      <td>26.940001</td>\n",
              "      <td>0</td>\n",
              "    </tr>\n",
              "    <tr>\n",
              "      <th>74180463</th>\n",
              "      <td>9</td>\n",
              "      <td>25759</td>\n",
              "      <td>1</td>\n",
              "      <td>5517</td>\n",
              "      <td>4708097</td>\n",
              "      <td>43159</td>\n",
              "      <td>1</td>\n",
              "      <td>10.400000</td>\n",
              "      <td>0</td>\n",
              "      <td>0.000000</td>\n",
              "      <td>1</td>\n",
              "    </tr>\n",
              "  </tbody>\n",
              "</table>\n",
              "<p>74180464 rows × 11 columns</p>\n",
              "</div>"
            ],
            "text/plain": [
              "          Semana  Agencia_ID  ...  Dev_proxima  Demanda_uni_equil\n",
              "0              3        1110  ...     0.000000                  3\n",
              "1              3        1110  ...     0.000000                  4\n",
              "2              3        1110  ...     0.000000                  4\n",
              "3              3        1110  ...     0.000000                  4\n",
              "4              3        1110  ...     0.000000                  3\n",
              "...          ...         ...  ...          ...                ...\n",
              "74180459       9       25759  ...     0.000000                  4\n",
              "74180460       9       25759  ...     0.000000                  4\n",
              "74180461       9       25759  ...     0.000000                  4\n",
              "74180462       9       25759  ...    26.940001                  0\n",
              "74180463       9       25759  ...     0.000000                  1\n",
              "\n",
              "[74180464 rows x 11 columns]"
            ]
          },
          "execution_count": 3,
          "metadata": {},
          "output_type": "execute_result"
        }
      ],
      "source": [
        "train_df"
      ]
    },
    {
      "cell_type": "code",
      "execution_count": null,
      "id": "ea4ee749",
      "metadata": {
        "colab": {
          "base_uri": "https://localhost:8080/"
        },
        "id": "ea4ee749",
        "outputId": "fc2be392-0f11-4a6c-d385-4aabb3df8272"
      },
      "outputs": [
        {
          "data": {
            "text/plain": [
              "(74180464, 11)"
            ]
          },
          "execution_count": 5,
          "metadata": {},
          "output_type": "execute_result"
        }
      ],
      "source": [
        "train_df.shape"
      ]
    },
    {
      "cell_type": "code",
      "execution_count": null,
      "id": "mGCoN2YDeCz0",
      "metadata": {
        "colab": {
          "base_uri": "https://localhost:8080/"
        },
        "id": "mGCoN2YDeCz0",
        "outputId": "7e5d95fe-c339-42d2-b1a7-391b81cbf96d"
      },
      "outputs": [
        {
          "data": {
            "text/plain": [
              "3    11165207\n",
              "4    11009593\n",
              "5    10615397\n",
              "9    10408713\n",
              "8    10406868\n",
              "7    10382849\n",
              "6    10191837\n",
              "Name: Semana, dtype: int64"
            ]
          },
          "execution_count": 6,
          "metadata": {},
          "output_type": "execute_result"
        }
      ],
      "source": [
        "train_df.Semana.value_counts()"
      ]
    },
    {
      "cell_type": "code",
      "execution_count": null,
      "id": "C0qm85hceE_v",
      "metadata": {
        "id": "C0qm85hceE_v"
      },
      "outputs": [],
      "source": [
        "train_df = train_df.sample(1000000)"
      ]
    },
    {
      "cell_type": "code",
      "execution_count": null,
      "id": "W47ziB3ff49z",
      "metadata": {
        "colab": {
          "base_uri": "https://localhost:8080/",
          "height": 424
        },
        "id": "W47ziB3ff49z",
        "outputId": "92891b31-46f9-4000-e726-c0b60b8b48aa"
      },
      "outputs": [
        {
          "data": {
            "text/html": [
              "<div>\n",
              "<style scoped>\n",
              "    .dataframe tbody tr th:only-of-type {\n",
              "        vertical-align: middle;\n",
              "    }\n",
              "\n",
              "    .dataframe tbody tr th {\n",
              "        vertical-align: top;\n",
              "    }\n",
              "\n",
              "    .dataframe thead th {\n",
              "        text-align: right;\n",
              "    }\n",
              "</style>\n",
              "<table border=\"1\" class=\"dataframe\">\n",
              "  <thead>\n",
              "    <tr style=\"text-align: right;\">\n",
              "      <th></th>\n",
              "      <th>Semana</th>\n",
              "      <th>Agencia_ID</th>\n",
              "      <th>Canal_ID</th>\n",
              "      <th>Ruta_SAK</th>\n",
              "      <th>Cliente_ID</th>\n",
              "      <th>Producto_ID</th>\n",
              "      <th>Venta_uni_hoy</th>\n",
              "      <th>Venta_hoy</th>\n",
              "      <th>Dev_uni_proxima</th>\n",
              "      <th>Dev_proxima</th>\n",
              "      <th>Demanda_uni_equil</th>\n",
              "    </tr>\n",
              "  </thead>\n",
              "  <tbody>\n",
              "    <tr>\n",
              "      <th>15748437</th>\n",
              "      <td>4</td>\n",
              "      <td>1461</td>\n",
              "      <td>1</td>\n",
              "      <td>2805</td>\n",
              "      <td>4336341</td>\n",
              "      <td>37058</td>\n",
              "      <td>7</td>\n",
              "      <td>52.500000</td>\n",
              "      <td>0</td>\n",
              "      <td>0.0</td>\n",
              "      <td>7</td>\n",
              "    </tr>\n",
              "    <tr>\n",
              "      <th>25162398</th>\n",
              "      <td>5</td>\n",
              "      <td>1335</td>\n",
              "      <td>1</td>\n",
              "      <td>1153</td>\n",
              "      <td>206504</td>\n",
              "      <td>1230</td>\n",
              "      <td>1</td>\n",
              "      <td>16.670000</td>\n",
              "      <td>0</td>\n",
              "      <td>0.0</td>\n",
              "      <td>1</td>\n",
              "    </tr>\n",
              "    <tr>\n",
              "      <th>43412423</th>\n",
              "      <td>7</td>\n",
              "      <td>1120</td>\n",
              "      <td>1</td>\n",
              "      <td>1467</td>\n",
              "      <td>4103871</td>\n",
              "      <td>48421</td>\n",
              "      <td>1</td>\n",
              "      <td>4.580000</td>\n",
              "      <td>0</td>\n",
              "      <td>0.0</td>\n",
              "      <td>1</td>\n",
              "    </tr>\n",
              "    <tr>\n",
              "      <th>62805673</th>\n",
              "      <td>8</td>\n",
              "      <td>3214</td>\n",
              "      <td>1</td>\n",
              "      <td>1630</td>\n",
              "      <td>4426715</td>\n",
              "      <td>40217</td>\n",
              "      <td>5</td>\n",
              "      <td>44.900002</td>\n",
              "      <td>0</td>\n",
              "      <td>0.0</td>\n",
              "      <td>5</td>\n",
              "    </tr>\n",
              "    <tr>\n",
              "      <th>29707827</th>\n",
              "      <td>5</td>\n",
              "      <td>2021</td>\n",
              "      <td>1</td>\n",
              "      <td>1206</td>\n",
              "      <td>3589666</td>\n",
              "      <td>2665</td>\n",
              "      <td>6</td>\n",
              "      <td>96.000000</td>\n",
              "      <td>0</td>\n",
              "      <td>0.0</td>\n",
              "      <td>6</td>\n",
              "    </tr>\n",
              "    <tr>\n",
              "      <th>...</th>\n",
              "      <td>...</td>\n",
              "      <td>...</td>\n",
              "      <td>...</td>\n",
              "      <td>...</td>\n",
              "      <td>...</td>\n",
              "      <td>...</td>\n",
              "      <td>...</td>\n",
              "      <td>...</td>\n",
              "      <td>...</td>\n",
              "      <td>...</td>\n",
              "      <td>...</td>\n",
              "    </tr>\n",
              "    <tr>\n",
              "      <th>27752670</th>\n",
              "      <td>5</td>\n",
              "      <td>1623</td>\n",
              "      <td>1</td>\n",
              "      <td>1032</td>\n",
              "      <td>4666686</td>\n",
              "      <td>1109</td>\n",
              "      <td>2</td>\n",
              "      <td>30.020000</td>\n",
              "      <td>0</td>\n",
              "      <td>0.0</td>\n",
              "      <td>2</td>\n",
              "    </tr>\n",
              "    <tr>\n",
              "      <th>20988498</th>\n",
              "      <td>4</td>\n",
              "      <td>3211</td>\n",
              "      <td>1</td>\n",
              "      <td>1415</td>\n",
              "      <td>2295035</td>\n",
              "      <td>1242</td>\n",
              "      <td>5</td>\n",
              "      <td>38.200001</td>\n",
              "      <td>0</td>\n",
              "      <td>0.0</td>\n",
              "      <td>5</td>\n",
              "    </tr>\n",
              "    <tr>\n",
              "      <th>11217733</th>\n",
              "      <td>4</td>\n",
              "      <td>1111</td>\n",
              "      <td>1</td>\n",
              "      <td>1627</td>\n",
              "      <td>22250</td>\n",
              "      <td>44859</td>\n",
              "      <td>3</td>\n",
              "      <td>13.890000</td>\n",
              "      <td>0</td>\n",
              "      <td>0.0</td>\n",
              "      <td>3</td>\n",
              "    </tr>\n",
              "    <tr>\n",
              "      <th>18760031</th>\n",
              "      <td>4</td>\n",
              "      <td>2016</td>\n",
              "      <td>1</td>\n",
              "      <td>1065</td>\n",
              "      <td>176106</td>\n",
              "      <td>3631</td>\n",
              "      <td>3</td>\n",
              "      <td>49.049999</td>\n",
              "      <td>0</td>\n",
              "      <td>0.0</td>\n",
              "      <td>3</td>\n",
              "    </tr>\n",
              "    <tr>\n",
              "      <th>45156521</th>\n",
              "      <td>7</td>\n",
              "      <td>1237</td>\n",
              "      <td>1</td>\n",
              "      <td>1271</td>\n",
              "      <td>154962</td>\n",
              "      <td>34868</td>\n",
              "      <td>4</td>\n",
              "      <td>12.080000</td>\n",
              "      <td>0</td>\n",
              "      <td>0.0</td>\n",
              "      <td>4</td>\n",
              "    </tr>\n",
              "  </tbody>\n",
              "</table>\n",
              "<p>1000000 rows × 11 columns</p>\n",
              "</div>"
            ],
            "text/plain": [
              "          Semana  Agencia_ID  ...  Dev_proxima  Demanda_uni_equil\n",
              "15748437       4        1461  ...          0.0                  7\n",
              "25162398       5        1335  ...          0.0                  1\n",
              "43412423       7        1120  ...          0.0                  1\n",
              "62805673       8        3214  ...          0.0                  5\n",
              "29707827       5        2021  ...          0.0                  6\n",
              "...          ...         ...  ...          ...                ...\n",
              "27752670       5        1623  ...          0.0                  2\n",
              "20988498       4        3211  ...          0.0                  5\n",
              "11217733       4        1111  ...          0.0                  3\n",
              "18760031       4        2016  ...          0.0                  3\n",
              "45156521       7        1237  ...          0.0                  4\n",
              "\n",
              "[1000000 rows x 11 columns]"
            ]
          },
          "execution_count": 5,
          "metadata": {},
          "output_type": "execute_result"
        }
      ],
      "source": [
        "train_df"
      ]
    },
    {
      "cell_type": "markdown",
      "id": "332b3a23",
      "metadata": {
        "id": "332b3a23"
      },
      "source": [
        "Let's save our work before continuing."
      ]
    },
    {
      "cell_type": "code",
      "execution_count": null,
      "id": "5725b1af",
      "metadata": {
        "colab": {
          "base_uri": "https://localhost:8080/"
        },
        "id": "5725b1af",
        "outputId": "1f34ee45-2fbe-41fa-b5bd-b469f3ead5b9"
      },
      "outputs": [
        {
          "name": "stdout",
          "output_type": "stream",
          "text": [
            "[jovian] Detected Colab notebook...\u001b[0m\n",
            "[jovian] Please enter your API key ( from https://jovian.ai/ ):\u001b[0m\n",
            "API KEY: "
          ]
        }
      ],
      "source": [
        "jovian.commit(project = 'grupo-bimbo-inventory-demand')"
      ]
    },
    {
      "cell_type": "markdown",
      "id": "21b10723",
      "metadata": {
        "id": "21b10723"
      },
      "source": [
        "## Rename Columns into English"
      ]
    },
    {
      "cell_type": "markdown",
      "id": "d02e3b37",
      "metadata": {
        "id": "d02e3b37"
      },
      "source": [
        "To ease understanding, extract column names and convert them to English as per the [Data description](https://www.kaggle.com/c/grupo-bimbo-inventory-demand/data)"
      ]
    },
    {
      "cell_type": "code",
      "execution_count": null,
      "id": "e5a2e0a8",
      "metadata": {
        "id": "e5a2e0a8"
      },
      "outputs": [],
      "source": [
        "train_df.columns"
      ]
    },
    {
      "cell_type": "code",
      "execution_count": null,
      "id": "98bbb01d",
      "metadata": {
        "id": "98bbb01d"
      },
      "outputs": [],
      "source": [
        "train_df = train_df.rename(columns = {'Semana': 'Week_Number', 'Agencia_ID': 'Sales_Depot_ID', 'Canal_ID':'Sales_Channel_ID',\n",
        "                                      'Ruta_SAK':'Route_ID', 'Cliente_ID':'Client_ID', 'Producto_ID':'Product_ID', \n",
        "                                      'Venta_uni_hoy':'Sales_Units_this_week', 'Venta_hoy':'Sales_this_week_pesos', \n",
        "                                      'Dev_uni_proxima':'Returns_units_next_week','Dev_proxima': 'Returns_next_week_pesos', \n",
        "                                      'Demanda_uni_equil':'Adjusted_Demand'})"
      ]
    },
    {
      "cell_type": "code",
      "execution_count": null,
      "id": "379ded38",
      "metadata": {
        "id": "379ded38"
      },
      "outputs": [],
      "source": [
        "train_df.head()"
      ]
    },
    {
      "cell_type": "code",
      "execution_count": null,
      "id": "ac1083d6",
      "metadata": {
        "id": "ac1083d6"
      },
      "outputs": [],
      "source": [
        "client_df.columns"
      ]
    },
    {
      "cell_type": "code",
      "execution_count": null,
      "id": "5d029a9a",
      "metadata": {
        "id": "5d029a9a"
      },
      "outputs": [],
      "source": [
        "client_df = client_df.rename(columns = {'Cliente_ID':'Client_ID', 'NombreCliente':'Client_Name'})"
      ]
    },
    {
      "cell_type": "code",
      "execution_count": null,
      "id": "71d38e49",
      "metadata": {
        "id": "71d38e49"
      },
      "outputs": [],
      "source": [
        "client_df.head()"
      ]
    },
    {
      "cell_type": "code",
      "execution_count": null,
      "id": "d6ff096f",
      "metadata": {
        "id": "d6ff096f"
      },
      "outputs": [],
      "source": [
        "product_df.columns"
      ]
    },
    {
      "cell_type": "code",
      "execution_count": null,
      "id": "797d3b39",
      "metadata": {
        "id": "797d3b39"
      },
      "outputs": [],
      "source": [
        "product_df = product_df.rename(columns = {'Producto_ID':'Product_ID', 'NombreProducto':'Product_Name'})"
      ]
    },
    {
      "cell_type": "code",
      "execution_count": null,
      "id": "58dd042a",
      "metadata": {
        "id": "58dd042a"
      },
      "outputs": [],
      "source": [
        "product_df.head()"
      ]
    },
    {
      "cell_type": "code",
      "execution_count": null,
      "id": "d52e44da",
      "metadata": {
        "id": "d52e44da"
      },
      "outputs": [],
      "source": [
        "test_df.columns"
      ]
    },
    {
      "cell_type": "code",
      "execution_count": null,
      "id": "9185969f",
      "metadata": {
        "id": "9185969f"
      },
      "outputs": [],
      "source": [
        "test_df = test_df.rename(columns = {'id':'ID', 'Semana': 'Week_Number', 'Agencia_ID': 'Sales_Depot_ID', 'Canal_ID':'Sales_Channel_ID',\n",
        "                                    'Ruta_SAK':'Route_ID', 'Cliente_ID':'Client_ID','Producto_ID':'Product_ID'})"
      ]
    },
    {
      "cell_type": "code",
      "execution_count": null,
      "id": "1b7798ac",
      "metadata": {
        "id": "1b7798ac"
      },
      "outputs": [],
      "source": [
        "test_df.head()"
      ]
    },
    {
      "cell_type": "code",
      "execution_count": null,
      "id": "10629e0e",
      "metadata": {
        "id": "10629e0e"
      },
      "outputs": [],
      "source": [
        "town_state_df.columns"
      ]
    },
    {
      "cell_type": "code",
      "execution_count": null,
      "id": "94175683",
      "metadata": {
        "id": "94175683"
      },
      "outputs": [],
      "source": [
        "town_state_df = town_state_df.rename(columns = {'Agencia_ID': 'Sales_Depot_ID', 'Town':'Town', 'State':'State'})"
      ]
    },
    {
      "cell_type": "code",
      "execution_count": null,
      "id": "346645a3",
      "metadata": {
        "id": "346645a3"
      },
      "outputs": [],
      "source": [
        "town_state_df.head()"
      ]
    },
    {
      "cell_type": "markdown",
      "id": "46848510",
      "metadata": {
        "id": "46848510"
      },
      "source": [
        "## Client Data Frame\n",
        "\n",
        "There are duplicate Cliente_ID's (Client_IDs) in cliente_tabla (Client_Table), which means one Client(e)_ID may have multiple NombreCliente(Client_Names) that are very similar. This is due to the NombreCliente (CLient_Names) being noisy and not standardized in the raw data\n",
        "\n",
        "Let's clean up and use this information. "
      ]
    },
    {
      "cell_type": "markdown",
      "id": "ef929222",
      "metadata": {
        "id": "ef929222"
      },
      "source": [
        "### Load in the Client Name data\n",
        "\n",
        "Make sure all names uppercase (there are some mixed instances)"
      ]
    },
    {
      "cell_type": "code",
      "execution_count": null,
      "id": "e425d041",
      "metadata": {
        "id": "e425d041"
      },
      "outputs": [],
      "source": [
        "client_df['Client_Name'] = client_df.Client_Name.str.upper()"
      ]
    },
    {
      "cell_type": "code",
      "execution_count": null,
      "id": "571cfeae",
      "metadata": {
        "id": "571cfeae"
      },
      "outputs": [],
      "source": [
        "client_df.Client_Name.value_counts()"
      ]
    },
    {
      "cell_type": "markdown",
      "id": "585ad976",
      "metadata": {
        "id": "585ad976"
      },
      "source": [
        "The methods used to generate the filter terms involved looking at the most frequent words/client names for clues about what types of establishments were mentioned in this data set.\n",
        "\n",
        "Developing the filters took a fair amount of \"human\" sleuthing while looking at TF-IDF scores, frequency counts of Client names, as well as just general knowledge of common Spanish words used to refer to certain establishment types. Especially with all the noise provided by the Clients referred to only by a proper name, the filtered data is a proportionally small figure- but, significant.\n",
        "\n",
        "Reference: [Classifying Client Type using Client Names](https://www.kaggle.com/abbysobh/classifying-client-type-using-client-names) by  Abderrahman Sobh "
      ]
    },
    {
      "cell_type": "markdown",
      "id": "2c3b2826",
      "metadata": {
        "id": "2c3b2826"
      },
      "source": [
        "Let's also generate a list of individual word frequency across all names"
      ]
    },
    {
      "cell_type": "code",
      "execution_count": null,
      "id": "e76de641",
      "metadata": {
        "id": "e76de641"
      },
      "outputs": [],
      "source": [
        "# Let's also generate a list of individual word frequency across all names\n",
        "def tfidf_score_list(data, list_len):\n",
        "    from sklearn.feature_extraction.text import TfidfVectorizer\n",
        "    v = TfidfVectorizer()\n",
        "\n",
        "    data['New'] = 'na'\n",
        "    a = \" \".join(data['Client_Name'])\n",
        "    data['New'][0] = a\n",
        "\n",
        "    tfidf = v.fit_transform(data['New'])\n",
        "\n",
        "    feature_names = v.get_feature_names()\n",
        "\n",
        "    freq = []\n",
        "    doc = 0\n",
        "    feature_index = tfidf[doc,:].nonzero()[1]\n",
        "    tfidf_scores = zip(feature_index, [tfidf[doc, x] for x in feature_index])\n",
        "    for w, s in [(feature_names[i], s) for (i, s) in tfidf_scores]:\n",
        "            freq.append((w.encode('utf-8'),s))\n",
        "    \n",
        "    del data['New']\n",
        "    \n",
        "    import numpy as np\n",
        "    names = ['word','score']\n",
        "    formats = ['S50','f8']\n",
        "    dtype = dict(names = names, formats=formats)\n",
        "    \n",
        "    array = np.array(freq, dtype=dtype)\n",
        "\n",
        "    b = np.sort(array, order='score')\n",
        "    \n",
        "    if list_len > len(b)+1:\n",
        "        list_len = len(b)+1\n",
        "    for i in range(1,list_len):\n",
        "        print(b[-i])"
      ]
    },
    {
      "cell_type": "code",
      "execution_count": null,
      "id": "ed523f47",
      "metadata": {
        "id": "ed523f47"
      },
      "outputs": [],
      "source": [
        "%%time\n",
        "tfidf_score_list(client_df, 200)"
      ]
    },
    {
      "cell_type": "markdown",
      "id": "3b52a796",
      "metadata": {
        "id": "3b52a796"
      },
      "source": [
        "Again, notice the prevalence of personal names. By looking at a long enough list, however, we can start to see some other useful terms appear such as particles of speech (i.e. 'ag', 'los', 'san') or more useful words like \"super\", \"oxxo\", \"mini\", \"comodin\". If I found a word that I thought represent a type of establishment, I'd double check it by doing a single search. If that search was fruitful and had a good amount of relevant results, I'd add it to my filter. An example of a single term search is below:\n"
      ]
    },
    {
      "cell_type": "code",
      "execution_count": null,
      "id": "cba4a6cc",
      "metadata": {
        "id": "cba4a6cc"
      },
      "outputs": [],
      "source": [
        "client_df[client_df['Client_Name'].str.contains('.*CAFE.*')]"
      ]
    },
    {
      "cell_type": "markdown",
      "id": "337ac9ce",
      "metadata": {
        "id": "337ac9ce"
      },
      "source": [
        "The result is a filter derived from hand-picking the best, most common, most interesting terms I could determine."
      ]
    },
    {
      "cell_type": "code",
      "execution_count": null,
      "id": "8269c3a2",
      "metadata": {
        "id": "8269c3a2"
      },
      "outputs": [],
      "source": [
        "# --- Begin Filtering for specific terms\n",
        "\n",
        "# Note that the order of filtering is significant.\n",
        "# For example: \n",
        "# The regex of .*ERIA.* will assign \"FRUITERIA\" to 'Eatery' rather than 'Fresh Market'.\n",
        "# In other words, the first filters to occur have a bigger priority.\n",
        "\n",
        "def filter_specific(data):\n",
        "    \n",
        "    # Known Large Company / Special Group Types\n",
        "    data['Client_Name'] = data['Client_Name'].str.replace('.*REMISION.*','Consignment')\n",
        "    data['Client_Name'] = data['Client_Name'].replace(['.*WAL MART.*','.*SAMS CLUB.*'],'Walmart', regex=True)\n",
        "    data['Client_Name'] = data['Client_Name'].str.replace('.*OXXO.*','Oxxo Store')\n",
        "    data['Client_Name'] = data['Client_Name'].str.replace('.*CONASUPO.*','Govt Store')\n",
        "    data['Client_Name'] = data['Client_Name'].str.replace('.*BIMBO.*','Bimbo Store')\n",
        "    \n",
        "    # General term search for a random assortment of words I picked from looking at\n",
        "    # their frequency of appearance in the data and common spanish words for these categories\n",
        "    data['Client_Name'] = data['Client_Name'].replace(['.*COLEG.*','.*UNIV.*','.*ESCU.*','.*INSTI.*',\\\n",
        "                                                        '.*PREPAR.*'],'School', regex=True)\n",
        "    data['Client_Name'] = data['Client_Name'].str.replace('.*PUESTO.*','Post')\n",
        "    data['Client_Name'] = data['Client_Name'].replace(['.*FARMA.*','.*HOSPITAL.*','.*CLINI.*'],'Hospital/Pharmacy', regex=True)\n",
        "    data['Client_Name'] = data['Client_Name'].replace(['.*CAFE.*','.*CREMERIA.*','.*DULCERIA.*',\\\n",
        "                                                        '.*REST.*','.*BURGER.*','.*TACO.*', '.*TORTA.*',\\\n",
        "                                                        '.*TAQUER.*','.*HOT DOG.*',\\\n",
        "                                                        '.*COMEDOR.*', '.*ERIA.*','.*BURGU.*'],'Eatery', regex=True)\n",
        "    data['Client_Name'] = data['Client_Name'].str.replace('.*SUPER.*','Supermarket')\n",
        "    data['Client_Name'] = data['Client_Name'].replace(['.*COMERCIAL.*','.*BODEGA.*','.*DEPOSITO.*',\\\n",
        "                                                            '.*ABARROTES.*','.*MERCADO.*','.*CAMBIO.*',\\\n",
        "                                                        '.*MARKET.*','.*MART .*','.*MINI .*',\\\n",
        "                                                        '.*PLAZA.*','.*MISC.*','.*ELEVEN.*','.*EXP.*',\\\n",
        "                                                         '.*SNACK.*', '.*PAPELERIA.*', '.*CARNICERIA.*',\\\n",
        "                                                         '.*LOCAL.*','.*COMODIN.*','.*PROVIDENCIA.*'\n",
        "                                                        ],'General Market/Mart'\\\n",
        "                                                       , regex=True)\n",
        "\n",
        "    data['Client_Name'] = data['Client_Name'].replace(['.*VERDU.*','.*FRUT.*'],'Fresh Market', regex=True)\n",
        "    data['Client_Name'] = data['Client_Name'].replace(['.*HOTEL.*','.*MOTEL.*'],'Hotel', regex=True)\n"
      ]
    },
    {
      "cell_type": "code",
      "execution_count": null,
      "id": "d993b91e",
      "metadata": {
        "id": "d993b91e"
      },
      "outputs": [],
      "source": [
        "%%time\n",
        "filter_specific(client_df)"
      ]
    },
    {
      "cell_type": "code",
      "execution_count": null,
      "id": "930abb56",
      "metadata": {
        "id": "930abb56"
      },
      "outputs": [],
      "source": [
        "# --- Begin filtering for more general terms\n",
        "# The idea here is to look for names with particles of speech that would not appear in a person's name.\n",
        "# i.e. \"Individuals\" should not contain any participles or numbers in their names.\n",
        "def filter_participle(data):\n",
        "    data['Client_Name'] = data['Client_Name'].replace([\n",
        "            '.*LA .*','.*EL .*','.*DE .*','.*LOS .*','.*DEL .*','.*Y .*', '.*SAN .*', '.*SANTA .*',\\\n",
        "            '.*AG .*','.*LAS .*','.*MI .*','.*MA .*', '.*II.*', '.*[0-9]+.*'\\\n",
        "    ],'Small Franchise', regex=True)"
      ]
    },
    {
      "cell_type": "code",
      "execution_count": null,
      "id": "370ceb55",
      "metadata": {
        "id": "370ceb55"
      },
      "outputs": [],
      "source": [
        "filter_participle(client_df)"
      ]
    },
    {
      "cell_type": "code",
      "execution_count": null,
      "id": "57cb4eb6",
      "metadata": {
        "id": "57cb4eb6"
      },
      "outputs": [],
      "source": [
        "# Any remaining entries should be \"Individual\" Named Clients, there are some outliers.\n",
        "# More specific filters could be used in order to reduce the percentage of outliers in this final set.\n",
        "def filter_remaining(data_df):\n",
        "    def function_word(data):\n",
        "        # Avoid the single-words created so far by checking for upper-case\n",
        "        if (data.isupper()) and (data != \"NO IDENTIFICADO\"): \n",
        "            return 'Individual'\n",
        "        else:\n",
        "            return data\n",
        "    data_df['Client_Name'] = data_df['Client_Name'].map(function_word)"
      ]
    },
    {
      "cell_type": "code",
      "execution_count": null,
      "id": "896c0be9",
      "metadata": {
        "id": "896c0be9"
      },
      "outputs": [],
      "source": [
        "filter_remaining(client_df)"
      ]
    },
    {
      "cell_type": "markdown",
      "id": "1495a75d",
      "metadata": {
        "id": "1495a75d"
      },
      "source": [
        "With the filtering complete, let's look at the breakdown of how the data is classified now:"
      ]
    },
    {
      "cell_type": "code",
      "execution_count": null,
      "id": "7511d30e",
      "metadata": {
        "id": "7511d30e"
      },
      "outputs": [],
      "source": [
        "client_df['Client_Name'].value_counts()"
      ]
    },
    {
      "cell_type": "markdown",
      "id": "2b340361",
      "metadata": {
        "id": "2b340361"
      },
      "source": [
        "Finally, we can apply these new tags on the actual Training and Test data sets that have been provided!"
      ]
    },
    {
      "cell_type": "code",
      "execution_count": null,
      "id": "3e0b300d",
      "metadata": {
        "id": "3e0b300d"
      },
      "outputs": [],
      "source": [
        "client_df"
      ]
    },
    {
      "cell_type": "code",
      "execution_count": null,
      "id": "c94cd170",
      "metadata": {
        "id": "c94cd170"
      },
      "outputs": [],
      "source": [
        "'''%%time\n",
        "train_df_Clients = train_df.merge(client_df.drop_duplicates(subset = 'Client_ID'), how = 'left')\n",
        "test_df_Clients = test_df.merge(client_df.drop_duplicates(subset = 'Client_ID'), how = 'left')'''"
      ]
    },
    {
      "cell_type": "code",
      "execution_count": null,
      "id": "366aabab",
      "metadata": {
        "id": "366aabab"
      },
      "outputs": [],
      "source": [
        "'''%%time\n",
        "train_df_Clients'''"
      ]
    },
    {
      "cell_type": "code",
      "execution_count": null,
      "id": "91ba0bee",
      "metadata": {
        "id": "91ba0bee"
      },
      "outputs": [],
      "source": [
        "'''%%time\n",
        "test_df_Clients'''"
      ]
    },
    {
      "cell_type": "markdown",
      "id": "b1c17ded",
      "metadata": {
        "id": "b1c17ded"
      },
      "source": [
        "## Exploring Products\n",
        "\n",
        "Let's explore the product set metadata. \n",
        "\n",
        "Lessons adopted from Andrey Vykhodtsev's [Exploring Products](https://www.kaggle.com/vykhand/exploring-products) and Metabaron's [Basic Preprocessing for Products](https://www.kaggle.com/lyytinen/basic-preprocessing-for-products)"
      ]
    },
    {
      "cell_type": "code",
      "execution_count": null,
      "id": "4fb5336d",
      "metadata": {
        "id": "4fb5336d"
      },
      "outputs": [],
      "source": [
        "product_df"
      ]
    },
    {
      "cell_type": "code",
      "execution_count": null,
      "id": "069fc721",
      "metadata": {
        "id": "069fc721"
      },
      "outputs": [],
      "source": [
        "def get_product_agg(cols):\n",
        "    df_train = pd.read_csv('train/train.csv', usecols = ['Semana', 'Producto_ID'] + cols,\n",
        "                           dtype  = {'Semana': 'int32',\n",
        "                                     'Producto_ID':'int32',\n",
        "                                     'Venta_hoy':'float32',\n",
        "                                     'Venta_uni_hoy': 'int32',\n",
        "                                     'Dev_uni_proxima':'int32',\n",
        "                                     'Dev_proxima':'float32',\n",
        "                                     'Demanda_uni_equil':'int32'},nrows = 4000000)\n",
        "    df_train = df_train.rename(columns = {'Semana': 'Week_Number', 'Agencia_ID': 'Sales_Depot_ID', 'Canal_ID':'Sales_Channel_ID',\n",
        "                                      'Ruta_SAK':'Route_ID', 'Cliente_ID':'Client_ID', 'Producto_ID':'Product_ID', \n",
        "                                      'Venta_uni_hoy':'Sales_Units_this_week', 'Venta_hoy':'Sales_this_week_pesos', \n",
        "                                      'Dev_uni_proxima':'Returns_units_next_week','Dev_proxima': 'Returns_next_week_pesos', \n",
        "                                      'Demanda_uni_equil':'Adjusted_Demand'})\n",
        "    \n",
        "    agg  = df_train.groupby(['Week_Number', 'Product_ID'], as_index=False).agg(['count','sum', 'min', 'max','median','mean'])\n",
        "    agg.columns  =  ['_'.join(col).strip() for col in agg.columns.values]\n",
        "    del(df_train)\n",
        "    return agg"
      ]
    },
    {
      "cell_type": "code",
      "execution_count": null,
      "id": "463700b4",
      "metadata": {
        "id": "463700b4"
      },
      "outputs": [],
      "source": [
        "agg1 = get_product_agg(['Demanda_uni_equil','Dev_uni_proxima'])"
      ]
    },
    {
      "cell_type": "code",
      "execution_count": null,
      "id": "ebefd013",
      "metadata": {
        "id": "ebefd013"
      },
      "outputs": [],
      "source": [
        "agg1"
      ]
    },
    {
      "cell_type": "code",
      "execution_count": null,
      "id": "99f61785",
      "metadata": {
        "id": "99f61785"
      },
      "outputs": [],
      "source": [
        "agg1.shape"
      ]
    },
    {
      "cell_type": "code",
      "execution_count": null,
      "id": "34704834",
      "metadata": {
        "id": "34704834"
      },
      "outputs": [],
      "source": [
        "agg2 = get_product_agg(['Venta_uni_hoy'])\n",
        "agg = agg1.join(agg2)"
      ]
    },
    {
      "cell_type": "code",
      "execution_count": null,
      "id": "e8f88dca",
      "metadata": {
        "id": "e8f88dca"
      },
      "outputs": [],
      "source": [
        "agg2"
      ]
    },
    {
      "cell_type": "code",
      "execution_count": null,
      "id": "cf6cbbbd",
      "metadata": {
        "id": "cf6cbbbd"
      },
      "outputs": [],
      "source": [
        "agg"
      ]
    },
    {
      "cell_type": "markdown",
      "id": "ae5d82a3",
      "metadata": {
        "id": "ae5d82a3"
      },
      "source": [
        "Let's preprocess products a little bit. I borrowed some of the preprocessing from [here](https://www.kaggle.com/lyytinen/basic-preprocessing-for-products)\n",
        "\n",
        "Let's look at the product set"
      ]
    },
    {
      "cell_type": "code",
      "execution_count": null,
      "id": "342c0041",
      "metadata": {
        "id": "342c0041"
      },
      "outputs": [],
      "source": [
        "product_df"
      ]
    },
    {
      "cell_type": "code",
      "execution_count": null,
      "id": "8811976a",
      "metadata": {
        "id": "8811976a"
      },
      "outputs": [],
      "source": [
        "product_df['Short_Name'] = product_df.Product_Name.str.extract('^(\\D*)', expand=False)\n",
        "product_df['Brand'] = product_df.Product_Name.str.extract('^.+\\s(\\D+) \\d+$', expand=False)\n",
        "w = product_df.Product_Name.str.extract('(\\d+)(Kg|g)', expand=True)\n",
        "product_df['weight'] = w[0].astype('float')*w[1].map({'Kg':1000, 'g':1})\n",
        "product_df['pieces'] =  product_df.Product_Name.str.extract('(\\d+)p ', expand=False).astype('float')\n",
        "product_df"
      ]
    },
    {
      "cell_type": "code",
      "execution_count": null,
      "id": "89e921b1",
      "metadata": {
        "id": "89e921b1"
      },
      "outputs": [],
      "source": [
        "product_df.Short_Name.value_counts(dropna = False).to_frame().reset_index().rename(columns={'index':'Short_Name','Short_Name':'count'})"
      ]
    },
    {
      "cell_type": "markdown",
      "id": "997a6494",
      "metadata": {
        "id": "997a6494"
      },
      "source": [
        "There are some weird products that weight 42 Kilos. In my truncated dataset, there are products that weigh as much as 25 Kgs. Check out this Exhibitor :\n",
        "\n",
        "![Exhibidor bimbo](https://mir-s3-cdn-cf.behance.net/project_modules/disp/55c94f24003843.5632c737c062c.jpeg)"
      ]
    },
    {
      "cell_type": "code",
      "execution_count": null,
      "id": "272ade78",
      "metadata": {
        "id": "272ade78"
      },
      "outputs": [],
      "source": [
        "sns.displot(product_df.weight.dropna());"
      ]
    },
    {
      "cell_type": "markdown",
      "id": "2e89aa7d",
      "metadata": {
        "id": "2e89aa7d"
      },
      "source": [
        "Let's examine the distribution of pieces"
      ]
    },
    {
      "cell_type": "code",
      "execution_count": null,
      "id": "a04db85b",
      "metadata": {
        "id": "a04db85b"
      },
      "outputs": [],
      "source": [
        "sns.displot(product_df.pieces.dropna());"
      ]
    },
    {
      "cell_type": "markdown",
      "id": "16d95cd2",
      "metadata": {
        "id": "16d95cd2"
      },
      "source": [
        "Most of the purchases are 50 products or less, however there are players who order up to 200 pieces. I presume these are the big players\n",
        "\n",
        "Lets clean up product names a bit, we have ~1000 unique names once we cleaned the weights, but there is much more work to be done\n",
        "\n",
        "Products have some abbreviation leftovers that I did not clean, products have similar names but different word forms, etc."
      ]
    },
    {
      "cell_type": "code",
      "execution_count": null,
      "id": "59390049",
      "metadata": {
        "id": "59390049"
      },
      "outputs": [],
      "source": [
        "product_df.Short_Name.nunique()"
      ]
    },
    {
      "cell_type": "markdown",
      "id": "526af38a",
      "metadata": {
        "id": "526af38a"
      },
      "source": [
        "Let's process the product dataset.\n",
        "\n",
        "The process of converting data to something a computer can understand is referred to as pre-processing. One of the major forms of pre-processing is to filter out useless data. In natural language processing, useless words (data), are referred to as `stop words`. \n",
        "\n",
        "**Stop Words**: A stop word is a commonly used word (such as “the”, “a”, “an”, “in”) that a search engine has been programmed to ignore, both when indexing entries for searching and when retrieving them as the result of a search query. \n",
        "We would not want these words to take up space in our database, or taking up valuable processing time. For this, we can remove them easily, by storing a list of words that you consider to stop words. NLTK(Natural Language Toolkit) in python has a list of stopwords stored in 16 different languages. You can find them in the nltk_data directory. home/pratima/nltk_data/corpora/stopwords is the directory address.(Do not forget to change your home directory name)\n",
        "\n",
        "Let's clean stop words and leave only the word stems (I did not clean abbreviations, sorry)"
      ]
    },
    {
      "cell_type": "code",
      "execution_count": null,
      "id": "89c0009b",
      "metadata": {
        "id": "89c0009b"
      },
      "outputs": [],
      "source": [
        "%%time\n",
        "import nltk\n",
        "nltk.download('stopwords')\n",
        "from nltk.corpus import stopwords\n",
        "print(stopwords.words('spanish'))"
      ]
    },
    {
      "cell_type": "code",
      "execution_count": null,
      "id": "7022338e",
      "metadata": {
        "id": "7022338e"
      },
      "outputs": [],
      "source": [
        "product_df['Short_Name_Processed'] = (product_df['Short_Name']\n",
        "                                        .map(lambda x: \" \".join([i for i in x.lower()\n",
        "                                                                 .split() if i not in stopwords.words(\"spanish\")])))"
      ]
    },
    {
      "cell_type": "code",
      "execution_count": null,
      "id": "2604dc5b",
      "metadata": {
        "id": "2604dc5b"
      },
      "outputs": [],
      "source": [
        "product_df['Short_Name_Processed'].nunique()"
      ]
    },
    {
      "cell_type": "code",
      "execution_count": null,
      "id": "939a43d8",
      "metadata": {
        "id": "939a43d8"
      },
      "outputs": [],
      "source": [
        "product_df['Short_Name_Processed'].nunique() - product_df.Short_Name.nunique()"
      ]
    },
    {
      "cell_type": "markdown",
      "id": "272afaab",
      "metadata": {
        "id": "272afaab"
      },
      "source": [
        "Let's reduce words further by `stemming`\n",
        "\n",
        "**Stemming**: It is the process of reducing the word to its word stem that affixes to suffixes and prefixes or to roots of words known as a lemma. In simple words stemming is reducing a word to its base word or stem in such a way that the words of similar kind lie under a common stem. For example – The words care, cared and caring lie under the same stem ‘care’. Stemming is important in natural language processing(NLP)."
      ]
    },
    {
      "cell_type": "code",
      "execution_count": null,
      "id": "ca082950",
      "metadata": {
        "id": "ca082950"
      },
      "outputs": [],
      "source": [
        "from nltk.stem.snowball import SnowballStemmer\n",
        "stemmer = SnowballStemmer(\"spanish\")"
      ]
    },
    {
      "cell_type": "code",
      "execution_count": null,
      "id": "dcc665d7",
      "metadata": {
        "id": "dcc665d7"
      },
      "outputs": [],
      "source": [
        "print(stemmer.stem(\"Tortillas\"))"
      ]
    },
    {
      "cell_type": "code",
      "execution_count": null,
      "id": "8e7a1cf4",
      "metadata": {
        "id": "8e7a1cf4"
      },
      "outputs": [],
      "source": [
        "product_df['Short_Name_Processed'] = (product_df['Short_Name_Processed']\n",
        "                                        .map(lambda x: \" \".join([stemmer.stem(i) for i in x.lower().split()])))"
      ]
    },
    {
      "cell_type": "code",
      "execution_count": null,
      "id": "6bda173a",
      "metadata": {
        "id": "6bda173a"
      },
      "outputs": [],
      "source": [
        "product_df.Short_Name_Processed.nunique()"
      ]
    },
    {
      "cell_type": "markdown",
      "id": "59169b5c",
      "metadata": {
        "id": "59169b5c"
      },
      "source": [
        "A further 29"
      ]
    },
    {
      "cell_type": "code",
      "execution_count": null,
      "id": "cb1b7507",
      "metadata": {
        "id": "cb1b7507"
      },
      "outputs": [],
      "source": [
        "from sklearn.feature_extraction.text import CountVectorizer\n",
        "vectorizer = CountVectorizer(analyzer = \"word\",   \\\n",
        "                             tokenizer = None,    \\\n",
        "                             preprocessor = None, \\\n",
        "                             stop_words = None,   \\\n",
        "                             max_features = 1000) \n",
        "\n",
        "product_bag_words = vectorizer.fit_transform(product_df.Short_Name_Processed).toarray()\n",
        "product_bag_words.shape"
      ]
    },
    {
      "cell_type": "code",
      "execution_count": null,
      "id": "27b30696",
      "metadata": {
        "id": "27b30696"
      },
      "outputs": [],
      "source": [
        "vectorizer.get_feature_names_out()"
      ]
    },
    {
      "cell_type": "code",
      "execution_count": null,
      "id": "90d8521f",
      "metadata": {
        "id": "90d8521f"
      },
      "outputs": [],
      "source": [
        "product_bag_words = pd.concat([product_df.Product_ID, \n",
        "                               pd.DataFrame(product_bag_words, \n",
        "                                            columns= vectorizer.get_feature_names(), index = product_df.index)], axis=1)\n",
        "product_bag_words.head()"
      ]
    },
    {
      "cell_type": "code",
      "execution_count": null,
      "id": "01b7e182",
      "metadata": {
        "id": "01b7e182"
      },
      "outputs": [],
      "source": [
        "product_bag_words.drop('Product_ID', axis=1).sum().sort_values(ascending=False).head(100).to_frame().rename(columns={0:'count'})"
      ]
    },
    {
      "cell_type": "markdown",
      "id": "a6fc9077",
      "metadata": {
        "id": "a6fc9077"
      },
      "source": [
        "Let's have a look, what is the product with the biggest demand of all times"
      ]
    },
    {
      "cell_type": "code",
      "execution_count": null,
      "id": "6b8f2f46",
      "metadata": {
        "id": "6b8f2f46"
      },
      "outputs": [],
      "source": [
        "df = pd.merge(agg1.reset_index(), product_df, on = 'Product_ID', how = 'left').groupby('Short_Name')['Adjusted_Demand_sum'].sum().sort_values(ascending=False)\n",
        "df"
      ]
    },
    {
      "cell_type": "code",
      "execution_count": null,
      "id": "c436cb09",
      "metadata": {
        "id": "c436cb09"
      },
      "outputs": [],
      "source": [
        "plt.figure(figsize= (12,15))\n",
        "df.head(50).sort_values().plot(kind = 'barh')\n",
        "plt.title('Adjusted Product Demand');"
      ]
    },
    {
      "cell_type": "markdown",
      "id": "f07685fb",
      "metadata": {
        "id": "f07685fb"
      },
      "source": [
        "The best seller is by far Nito. A quick look at the distributions"
      ]
    },
    {
      "cell_type": "code",
      "execution_count": null,
      "id": "48074bda",
      "metadata": {
        "id": "48074bda"
      },
      "outputs": [],
      "source": [
        "sns.displot(df);"
      ]
    },
    {
      "cell_type": "code",
      "execution_count": null,
      "id": "881ecc5f",
      "metadata": {
        "id": "881ecc5f"
      },
      "outputs": [],
      "source": [
        "sns.displot(np.log1p(df));"
      ]
    },
    {
      "cell_type": "markdown",
      "id": "18a9aac6",
      "metadata": {
        "id": "18a9aac6"
      },
      "source": [
        "Expanding the aggregate"
      ]
    },
    {
      "cell_type": "code",
      "execution_count": null,
      "id": "0ab8eb2d",
      "metadata": {
        "id": "0ab8eb2d"
      },
      "outputs": [],
      "source": [
        "df = (pd.merge(agg.reset_index(), product_df, on='Product_ID', how='left').\n",
        "      groupby('Short_Name')[['Adjusted_Demand_sum', 'Sales_Units_this_week_sum', 'Returns_units_next_week_sum', \n",
        "                            'Returns_units_next_week_count']]\n",
        "      .sum().sort_values(by = 'Adjusted_Demand_sum', ascending=False))"
      ]
    },
    {
      "cell_type": "code",
      "execution_count": null,
      "id": "04ee4f30",
      "metadata": {
        "id": "04ee4f30"
      },
      "outputs": [],
      "source": [
        "df.describe().T"
      ]
    },
    {
      "cell_type": "markdown",
      "id": "30ef97c2",
      "metadata": {
        "id": "30ef97c2"
      },
      "source": [
        "There are interesting things. There are products for which `Adjusted_Demand_sum` = 0 and other fields are not equal to 0"
      ]
    },
    {
      "cell_type": "code",
      "execution_count": null,
      "id": "6daf7102",
      "metadata": {
        "id": "6daf7102"
      },
      "outputs": [],
      "source": [
        "df[df.Adjusted_Demand_sum == 0].count()"
      ]
    },
    {
      "cell_type": "code",
      "execution_count": null,
      "id": "db4609b8",
      "metadata": {
        "id": "db4609b8"
      },
      "outputs": [],
      "source": [
        "df[df.Adjusted_Demand_sum == 0]"
      ]
    },
    {
      "cell_type": "markdown",
      "id": "515580ff",
      "metadata": {
        "id": "515580ff"
      },
      "source": [
        "Similarly there are products with 0 sales and only returns"
      ]
    },
    {
      "cell_type": "code",
      "execution_count": null,
      "id": "16dfbbd0",
      "metadata": {
        "id": "16dfbbd0"
      },
      "outputs": [],
      "source": [
        "df[df.Sales_Units_this_week_sum == 0]"
      ]
    },
    {
      "cell_type": "markdown",
      "id": "729e3b6c",
      "metadata": {
        "id": "729e3b6c"
      },
      "source": [
        "There are products that were never returned"
      ]
    },
    {
      "cell_type": "code",
      "execution_count": null,
      "id": "6f289ae5",
      "metadata": {
        "id": "6f289ae5"
      },
      "outputs": [],
      "source": [
        "df[df.Returns_units_next_week_sum == 0].count()"
      ]
    },
    {
      "cell_type": "code",
      "execution_count": null,
      "id": "5037320c",
      "metadata": {
        "id": "5037320c"
      },
      "outputs": [],
      "source": [
        "df[df.Returns_units_next_week_sum == 0].head(20)"
      ]
    },
    {
      "cell_type": "markdown",
      "id": "229dea94",
      "metadata": {
        "id": "229dea94"
      },
      "source": [
        "Let's cut products into 10 quantiles by summary adjusted demand."
      ]
    },
    {
      "cell_type": "code",
      "execution_count": null,
      "id": "2aa33ed9",
      "metadata": {
        "id": "2aa33ed9"
      },
      "outputs": [],
      "source": [
        "df['Q'] = pd.qcut(df.Adjusted_Demand_sum, 10)\n",
        "df.Q.value_counts()"
      ]
    },
    {
      "cell_type": "code",
      "execution_count": null,
      "id": "8b7351bd",
      "metadata": {
        "id": "8b7351bd"
      },
      "outputs": [],
      "source": [
        "df[df.Q == '[0, 49]'].index.values"
      ]
    },
    {
      "cell_type": "markdown",
      "id": "f54285cf",
      "metadata": {
        "id": "f54285cf"
      },
      "source": [
        "Distribution of returns by product"
      ]
    },
    {
      "cell_type": "code",
      "execution_count": null,
      "id": "fa3dd9d1",
      "metadata": {
        "id": "fa3dd9d1"
      },
      "outputs": [],
      "source": [
        "sns.distplot(df.Adjusted_Demand_sum);"
      ]
    },
    {
      "cell_type": "code",
      "execution_count": null,
      "id": "9183ef4a",
      "metadata": {
        "id": "9183ef4a"
      },
      "outputs": [],
      "source": [
        "sns.distplot(np.log1p(df.Adjusted_Demand_sum))"
      ]
    },
    {
      "cell_type": "markdown",
      "id": "9e0ef23d",
      "metadata": {
        "id": "9e0ef23d"
      },
      "source": [
        "Distribution of counts by product"
      ]
    },
    {
      "cell_type": "code",
      "execution_count": null,
      "id": "51f165ed",
      "metadata": {
        "id": "51f165ed"
      },
      "outputs": [],
      "source": [
        "sns.distplot(df.Returns_units_next_week_count);"
      ]
    },
    {
      "cell_type": "code",
      "execution_count": null,
      "id": "fdc79744",
      "metadata": {
        "id": "fdc79744"
      },
      "outputs": [],
      "source": [
        "sns.distplot(np.log1p(df.Returns_units_next_week_count))"
      ]
    },
    {
      "cell_type": "markdown",
      "id": "e2c81d24",
      "metadata": {
        "id": "e2c81d24"
      },
      "source": [
        "Lets aggregate by week and `Short_Name` now"
      ]
    },
    {
      "cell_type": "code",
      "execution_count": null,
      "id": "878ceb96",
      "metadata": {
        "id": "878ceb96"
      },
      "outputs": [],
      "source": [
        "df_hmp = (pd.merge(agg.reset_index(), product_df, on='Product_ID', how='left').\n",
        "      groupby(['Week_Number','Short_Name'])[['Adjusted_Demand_sum', 'Sales_Units_this_week_sum', 'Returns_units_next_week_sum', \n",
        "                            'Returns_units_next_week_count']].sum().reset_index())"
      ]
    },
    {
      "cell_type": "code",
      "execution_count": null,
      "id": "cc4584ed",
      "metadata": {
        "id": "cc4584ed"
      },
      "outputs": [],
      "source": [
        "df_hmp"
      ]
    },
    {
      "cell_type": "markdown",
      "id": "3ae20fbe",
      "metadata": {
        "id": "3ae20fbe"
      },
      "source": [
        "A quick check if demand distribution changes week to week"
      ]
    },
    {
      "cell_type": "code",
      "execution_count": null,
      "id": "c996d8bd",
      "metadata": {
        "id": "c996d8bd"
      },
      "outputs": [],
      "source": [
        "df_hmp['log1p_Adjusted_Demand_sum'] = np.log1p(df_hmp.Adjusted_Demand_sum)\n",
        "g = sns.FacetGrid(df_hmp, row = 'Week_Number')\n",
        "g = g.map(sns.distplot, 'log1p_Adjusted_Demand_sum')\n"
      ]
    },
    {
      "cell_type": "markdown",
      "id": "5a6240f2",
      "metadata": {
        "id": "5a6240f2"
      },
      "source": [
        "Let's save our work before continuing"
      ]
    },
    {
      "cell_type": "markdown",
      "id": "b4739a63",
      "metadata": {
        "id": "b4739a63"
      },
      "source": [
        "Let's merge `product_df` onto `train_df_Clients` and `test_df_Clients`"
      ]
    },
    {
      "cell_type": "code",
      "execution_count": null,
      "id": "d96dd7cf",
      "metadata": {
        "id": "d96dd7cf"
      },
      "outputs": [],
      "source": [
        "product_df"
      ]
    },
    {
      "cell_type": "code",
      "execution_count": null,
      "id": "65e5d288",
      "metadata": {
        "id": "65e5d288"
      },
      "outputs": [],
      "source": [
        "train_df_Clients"
      ]
    },
    {
      "cell_type": "code",
      "execution_count": null,
      "id": "57577304",
      "metadata": {
        "id": "57577304"
      },
      "outputs": [],
      "source": [
        "test_df_Clients"
      ]
    },
    {
      "cell_type": "code",
      "execution_count": null,
      "id": "80824c4c",
      "metadata": {
        "id": "80824c4c"
      },
      "outputs": [],
      "source": [
        "%%time\n",
        "train_merged_df = train_df_Clients.merge(product_df, on = 'Product_ID', how = 'left')"
      ]
    },
    {
      "cell_type": "code",
      "execution_count": null,
      "id": "f56a5807",
      "metadata": {
        "id": "f56a5807"
      },
      "outputs": [],
      "source": [
        "train_merged_df"
      ]
    },
    {
      "cell_type": "code",
      "execution_count": null,
      "id": "5475a248",
      "metadata": {
        "id": "5475a248"
      },
      "outputs": [],
      "source": [
        "%%time\n",
        "test_merged_df = test_df_Clients.merge(product_df, on = 'Product_ID', how = 'left')"
      ]
    },
    {
      "cell_type": "code",
      "execution_count": null,
      "id": "09480009",
      "metadata": {
        "id": "09480009"
      },
      "outputs": [],
      "source": [
        "test_merged_df"
      ]
    },
    {
      "cell_type": "code",
      "execution_count": null,
      "id": "b31b0ea6",
      "metadata": {
        "id": "b31b0ea6"
      },
      "outputs": [],
      "source": [
        "jovian.commit()"
      ]
    },
    {
      "cell_type": "markdown",
      "id": "64d90464",
      "metadata": {
        "id": "64d90464"
      },
      "source": [
        "Let's take a look at the available columns, and figure out if we can create new columns or apply any useful transformations."
      ]
    },
    {
      "cell_type": "code",
      "execution_count": null,
      "id": "c7c9b6f8",
      "metadata": {
        "id": "c7c9b6f8"
      },
      "outputs": [],
      "source": [
        "train_merged_df.info()"
      ]
    },
    {
      "cell_type": "code",
      "execution_count": null,
      "id": "92abab3e",
      "metadata": {
        "id": "92abab3e"
      },
      "outputs": [],
      "source": [
        "test_merged_df.info()"
      ]
    },
    {
      "cell_type": "markdown",
      "id": "3e1d0956",
      "metadata": {
        "id": "3e1d0956"
      },
      "source": [
        "### Deal with NA Values\n",
        "\n",
        "Our objective is to predict adjusted demand. Let's look at the missing values to determine what approach to use "
      ]
    },
    {
      "cell_type": "code",
      "execution_count": null,
      "id": "47fd2c20",
      "metadata": {
        "id": "47fd2c20"
      },
      "outputs": [],
      "source": [
        "train_merged_df.isna().sum()"
      ]
    },
    {
      "cell_type": "code",
      "execution_count": null,
      "id": "28a52875",
      "metadata": {
        "id": "28a52875"
      },
      "outputs": [],
      "source": [
        "test_merged_df.isna().sum()"
      ]
    },
    {
      "cell_type": "markdown",
      "id": "fcce6d2d",
      "metadata": {
        "id": "fcce6d2d"
      },
      "source": [
        "The missing values are in an extract of products we got from feature engineering i.e. Weight and pieces. We will leave that out in choosing our input and target variables\n"
      ]
    },
    {
      "cell_type": "markdown",
      "id": "d8c7e1db",
      "metadata": {
        "id": "d8c7e1db"
      },
      "source": [
        "### Input and Target Columns\n",
        "\n",
        "Let's select the columns that we'll use for training."
      ]
    },
    {
      "cell_type": "code",
      "execution_count": null,
      "id": "c66b0d77",
      "metadata": {
        "id": "c66b0d77"
      },
      "outputs": [],
      "source": [
        "train_merged_df.columns"
      ]
    },
    {
      "cell_type": "code",
      "execution_count": null,
      "id": "47e74a88",
      "metadata": {
        "id": "47e74a88"
      },
      "outputs": [],
      "source": [
        "test_merged_df.columns"
      ]
    },
    {
      "cell_type": "code",
      "execution_count": null,
      "id": "e426683c",
      "metadata": {
        "id": "e426683c"
      },
      "outputs": [],
      "source": [
        "input_cols = ['Week_Number', 'Sales_Depot_ID', 'Sales_Channel_ID', 'Route_ID',\n",
        "       'Client_ID', 'Product_ID', 'Client_Name']\n",
        "target_col = ['Adjusted_Demand']"
      ]
    },
    {
      "cell_type": "code",
      "execution_count": null,
      "id": "00d24751",
      "metadata": {
        "id": "00d24751"
      },
      "outputs": [],
      "source": [
        "%%time\n",
        "inputs = train_merged_df[input_cols].copy()\n",
        "targets = train_merged_df[target_col].copy()"
      ]
    },
    {
      "cell_type": "code",
      "execution_count": null,
      "id": "532afd26",
      "metadata": {
        "id": "532afd26"
      },
      "outputs": [],
      "source": [
        "%%time\n",
        "test_inputs = test_merged_df[input_cols].copy()"
      ]
    },
    {
      "cell_type": "markdown",
      "id": "cd6398c5",
      "metadata": {
        "id": "cd6398c5"
      },
      "source": [
        "Let's also identify numeric and categorical columns. Note there are categorical columns that look numeric. We will however treat numeric columns as numeric and scale thereafter"
      ]
    },
    {
      "cell_type": "code",
      "execution_count": null,
      "id": "2390c50d",
      "metadata": {
        "id": "2390c50d"
      },
      "outputs": [],
      "source": [
        "inputs"
      ]
    },
    {
      "cell_type": "code",
      "execution_count": null,
      "id": "cd60611a",
      "metadata": {
        "id": "cd60611a"
      },
      "outputs": [],
      "source": [
        "%%time\n",
        "inputs.info()"
      ]
    },
    {
      "cell_type": "code",
      "execution_count": null,
      "id": "f494b814",
      "metadata": {
        "id": "f494b814"
      },
      "outputs": [],
      "source": [
        "numeric_cols = ['Week_Number', 'Sales_Depot_ID', 'Sales_Channel_ID', 'Route_ID','Client_ID']\n",
        "categorical_cols = ['Client_Name']"
      ]
    },
    {
      "cell_type": "markdown",
      "id": "b244020d",
      "metadata": {
        "id": "b244020d"
      },
      "source": [
        "### Scale Numeric Values"
      ]
    },
    {
      "cell_type": "code",
      "execution_count": null,
      "id": "76179dad",
      "metadata": {
        "id": "76179dad"
      },
      "outputs": [],
      "source": [
        "from sklearn.preprocessing import MinMaxScaler"
      ]
    },
    {
      "cell_type": "code",
      "execution_count": null,
      "id": "fad24a2f",
      "metadata": {
        "id": "fad24a2f"
      },
      "outputs": [],
      "source": [
        "scaler = MinMaxScaler().fit(inputs[numeric_cols])"
      ]
    },
    {
      "cell_type": "code",
      "execution_count": null,
      "id": "f9e248af",
      "metadata": {
        "id": "f9e248af"
      },
      "outputs": [],
      "source": [
        "inputs[numeric_cols] = scaler.transform(inputs[numeric_cols])\n",
        "test_inputs[numeric_cols] = scaler.transform(test_inputs[numeric_cols])"
      ]
    },
    {
      "cell_type": "code",
      "execution_count": null,
      "id": "b98841d4",
      "metadata": {
        "id": "b98841d4"
      },
      "outputs": [],
      "source": [
        "inputs"
      ]
    },
    {
      "cell_type": "code",
      "execution_count": null,
      "id": "d98ef4dc",
      "metadata": {
        "id": "d98ef4dc"
      },
      "outputs": [],
      "source": [
        ""
      ]
    },
    {
      "cell_type": "markdown",
      "id": "4544e75b",
      "metadata": {
        "id": "4544e75b"
      },
      "source": [
        "### Encode Categorical Columns\n",
        "\n",
        "Let's one-hot encode categorical columns."
      ]
    },
    {
      "cell_type": "code",
      "execution_count": null,
      "id": "8850ebde",
      "metadata": {
        "id": "8850ebde"
      },
      "outputs": [],
      "source": [
        "from sklearn.preprocessing import OneHotEncoder"
      ]
    },
    {
      "cell_type": "code",
      "execution_count": null,
      "id": "a6072de8",
      "metadata": {
        "id": "a6072de8"
      },
      "outputs": [],
      "source": [
        "%%time\n",
        "encoder = OneHotEncoder(sparse = 'False', handle_unknown = 'ignore').fit(inputs[categorical_cols])\n",
        "encoded_cols = list(encoder.get_feature_names(categorical_cols))"
      ]
    },
    {
      "cell_type": "code",
      "execution_count": null,
      "id": "d81c9e31",
      "metadata": {
        "id": "d81c9e31"
      },
      "outputs": [],
      "source": [
        "encoded_cols"
      ]
    },
    {
      "cell_type": "code",
      "execution_count": null,
      "id": "8a0c1598",
      "metadata": {
        "id": "8a0c1598"
      },
      "outputs": [],
      "source": [
        "inputs[categorical_cols]"
      ]
    },
    {
      "cell_type": "code",
      "execution_count": null,
      "id": "1d40079c",
      "metadata": {
        "id": "1d40079c"
      },
      "outputs": [],
      "source": [
        "encoder.transform(inputs[categorical_cols])"
      ]
    },
    {
      "cell_type": "code",
      "execution_count": null,
      "id": "ce3d69bb",
      "metadata": {
        "id": "ce3d69bb"
      },
      "outputs": [],
      "source": [
        "inputs[encoded_cols] = encoder.transform(inputs[categorical_cols])\n",
        "test_inputs[encoded_cols] = encoder.transform(test_inputs[categorical_cols])"
      ]
    },
    {
      "cell_type": "markdown",
      "id": "bbebfdd7",
      "metadata": {
        "id": "bbebfdd7"
      },
      "source": [
        "Finally, let's extract out all the numeric data for training."
      ]
    },
    {
      "cell_type": "code",
      "execution_count": null,
      "id": "8b47655e",
      "metadata": {
        "id": "8b47655e"
      },
      "outputs": [],
      "source": [
        "X = inputs[numeric_cols + encoded_cols]\n",
        "X_test = test_inputs[numeric_cols + encoded_cols]"
      ]
    },
    {
      "cell_type": "markdown",
      "id": "c650fa57",
      "metadata": {
        "id": "c650fa57"
      },
      "source": [
        "## Random Forests"
      ]
    },
    {
      "cell_type": "code",
      "execution_count": null,
      "id": "4175b242",
      "metadata": {
        "id": "4175b242"
      },
      "outputs": [],
      "source": [
        "from sklearn.ensemble import RandomForestRegressor"
      ]
    },
    {
      "cell_type": "code",
      "execution_count": null,
      "id": "bb07b59f",
      "metadata": {
        "id": "bb07b59f"
      },
      "outputs": [],
      "source": [
        "# Create the model\n",
        "rf = RandomForestRegressor(n_jobs = -1, random_state = 42)"
      ]
    },
    {
      "cell_type": "code",
      "execution_count": null,
      "id": "99a55c7d",
      "metadata": {
        "id": "99a55c7d"
      },
      "outputs": [],
      "source": [
        "#Fit the model\n",
        "rf.fit(X, targets)"
      ]
    },
    {
      "cell_type": "code",
      "execution_count": null,
      "id": "a8f9302b",
      "metadata": {
        "id": "a8f9302b"
      },
      "outputs": [],
      "source": [
        "targets.shape"
      ]
    },
    {
      "cell_type": "code",
      "execution_count": null,
      "id": "21f40327",
      "metadata": {
        "id": "21f40327"
      },
      "outputs": [],
      "source": [
        "targets"
      ]
    },
    {
      "cell_type": "markdown",
      "id": "29a460fd",
      "metadata": {
        "id": "29a460fd"
      },
      "source": [
        "Make predictions using the random forest regressor."
      ]
    },
    {
      "cell_type": "code",
      "execution_count": null,
      "id": "172627ca",
      "metadata": {
        "id": "172627ca"
      },
      "outputs": [],
      "source": [
        "rf_train_preds = rf.predict(X)"
      ]
    },
    {
      "cell_type": "code",
      "execution_count": null,
      "id": "df04976b",
      "metadata": {
        "id": "df04976b"
      },
      "outputs": [],
      "source": [
        "from sklearn.metrics import mean_squared_error"
      ]
    },
    {
      "cell_type": "code",
      "execution_count": null,
      "id": "f2a2dc80",
      "metadata": {
        "id": "f2a2dc80"
      },
      "outputs": [],
      "source": [
        "rf_train_rmse = mean_squared_error(rf_train_preds, targets, squared = False)"
      ]
    },
    {
      "cell_type": "code",
      "execution_count": null,
      "id": "81f28779",
      "metadata": {
        "id": "81f28779"
      },
      "outputs": [],
      "source": [
        "rf_train_rmse"
      ]
    },
    {
      "cell_type": "code",
      "execution_count": null,
      "id": "144e5850",
      "metadata": {
        "id": "144e5850"
      },
      "outputs": [],
      "source": [
        "rf_test_preds = rf.predict(X_test)"
      ]
    },
    {
      "cell_type": "code",
      "execution_count": null,
      "id": "a8b5c70e",
      "metadata": {
        "id": "a8b5c70e"
      },
      "outputs": [],
      "source": [
        "rf_test_preds.shape"
      ]
    },
    {
      "cell_type": "markdown",
      "id": "d77d38e9",
      "metadata": {
        "id": "d77d38e9"
      },
      "source": [
        "## Hyperparameter Tuning\n",
        "\n",
        "Let us now tune the hyperparameters of our model. You can find the hyperparameters for `RandomForestRegressor` here: https://scikit-learn.org/stable/modules/generated/sklearn.ensemble.RandomForestRegressor.html\n",
        "\n",
        "<img src=\"https://i.imgur.com/EJCrSZw.png\" width=\"480\">\n",
        "\n",
        "Let's define a helper function `test_params` which can test the given value of one or more hyperparameters."
      ]
    },
    {
      "cell_type": "code",
      "execution_count": null,
      "id": "610fdbe9",
      "metadata": {
        "id": "610fdbe9"
      },
      "outputs": [],
      "source": [
        "def test_params(**params):\n",
        "    model = RandomForestRegressor(n_jobs = -1, random_state = 42).fit(X, targets)\n",
        "    train_rmse = mean_squared_error(model.predict(X), targets, squared = False)\n",
        "    return train_rmse"
      ]
    },
    {
      "cell_type": "markdown",
      "id": "2008aa95",
      "metadata": {
        "id": "2008aa95"
      },
      "source": [
        "It can be used as follows:"
      ]
    },
    {
      "cell_type": "code",
      "execution_count": null,
      "id": "3e4822c9",
      "metadata": {
        "id": "3e4822c9"
      },
      "outputs": [],
      "source": [
        "test_params(n_estimators=20, max_depth=20)"
      ]
    },
    {
      "cell_type": "markdown",
      "id": "ea2aa46c",
      "metadata": {
        "id": "ea2aa46c"
      },
      "source": [
        "test_params(n_estimators=50, max_depth=10, min_samples_leaf=4, max_features=0.4)"
      ]
    },
    {
      "cell_type": "markdown",
      "id": "c5c505cb",
      "metadata": {
        "id": "c5c505cb"
      },
      "source": [
        ""
      ]
    }
  ],
  "metadata": {
    "colab": {
      "name": "Grupo_Bimbo_Inventory_Demand.ipynb",
      "provenance": [],
      "include_colab_link": true
    },
    "kernelspec": {
      "display_name": "Python 3 (ipykernel)",
      "language": "python",
      "name": "python3"
    },
    "language_info": {
      "codemirror_mode": {
        "name": "ipython",
        "version": 3
      },
      "file_extension": ".py",
      "mimetype": "text/x-python",
      "name": "python",
      "nbconvert_exporter": "python",
      "pygments_lexer": "ipython3",
      "version": "3.8.11"
    }
  },
  "nbformat": 4,
  "nbformat_minor": 5
}